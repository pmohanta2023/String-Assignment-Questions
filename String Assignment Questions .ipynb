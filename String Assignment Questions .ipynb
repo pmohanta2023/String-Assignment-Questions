{
 "cells": [
  {
   "cell_type": "code",
   "execution_count": null,
   "id": "46073391-ef0c-4892-ac3b-a34265bae51c",
   "metadata": {},
   "outputs": [],
   "source": [
    "Q1.How can we store a single quote (‘) as a string in a var1able?  "
   ]
  },
  {
   "cell_type": "code",
   "execution_count": null,
   "id": "357010e4-cff1-47f2-8614-4d53e55a67e4",
   "metadata": {},
   "outputs": [],
   "source": [
    "#Ans:"
   ]
  },
  {
   "cell_type": "code",
   "execution_count": null,
   "id": "125d3a03-2b37-4341-9397-056ae3deef4e",
   "metadata": {},
   "outputs": [],
   "source": [
    "my_variable = \"'\""
   ]
  },
  {
   "cell_type": "code",
   "execution_count": 50,
   "id": "4311597c-1262-4694-8227-a8d1b0bc98b9",
   "metadata": {},
   "outputs": [
    {
     "data": {
      "text/plain": [
       "\"'\""
      ]
     },
     "execution_count": 50,
     "metadata": {},
     "output_type": "execute_result"
    }
   ],
   "source": [
    "my_variable   #OUTPUT: \"'\""
   ]
  },
  {
   "cell_type": "code",
   "execution_count": null,
   "id": "fec39292-e978-47c0-840a-32e05d782bff",
   "metadata": {},
   "outputs": [],
   "source": [
    "Q2.Refer the below variable: \n",
    "x = ‘a' \n",
    "Here, is x a character type or string type variable? Support your answer with an explanation."
   ]
  },
  {
   "cell_type": "code",
   "execution_count": null,
   "id": "af350ad4-f15b-4c7a-9ebd-1e25416bab8c",
   "metadata": {},
   "outputs": [],
   "source": [
    "#Ans:"
   ]
  },
  {
   "cell_type": "code",
   "execution_count": null,
   "id": "1ae29f08-ea16-407c-9005-d79846677e31",
   "metadata": {},
   "outputs": [],
   "source": [
    "x = 'a'"
   ]
  },
  {
   "cell_type": "code",
   "execution_count": 51,
   "id": "e999ee11-5015-4476-b418-478583a43c09",
   "metadata": {},
   "outputs": [
    {
     "data": {
      "text/plain": [
       "str"
      ]
     },
     "execution_count": 51,
     "metadata": {},
     "output_type": "execute_result"
    }
   ],
   "source": [
    "type(x)  #output: str"
   ]
  },
  {
   "cell_type": "code",
   "execution_count": null,
   "id": "4665bedd-7217-407b-96a4-a41552a80d82",
   "metadata": {},
   "outputs": [],
   "source": [
    "The variable x is a character type variable.\n",
    "a character type represents a single character. It is often denoted using single quotes (' '). In the case of the variable x = 'a', the single character 'a' is enclosed within single quotes, indicating that it represents a character.\n",
    "\n",
    "On the other hand, a string type variable represents a sequence of characters. It is typically denoted using double quotes (\" \") or single quotes (' '). For example, a string variable would be defined as x = \"hello\" or x = 'hello'.\n",
    "\n",
    "Since the variable x in the given example represents a single character ('a'), it is considered a character type variable."
   ]
  },
  {
   "cell_type": "code",
   "execution_count": null,
   "id": "d02249f5-3d05-4b13-bbe0-191d6943677d",
   "metadata": {},
   "outputs": [],
   "source": [
    "Q3.Apply the following functions on this variable: ‘Welcome to Python foundation course'\n",
    "i. find ()\n",
    "ii.count()\n",
    "iii. len()\n",
    "iv. Concatenation\n",
    "Note: You can use your choice of parametersQ But make sure it is correct."
   ]
  },
  {
   "cell_type": "code",
   "execution_count": null,
   "id": "8c12612c-6324-4051-94cd-50ccd222ea7b",
   "metadata": {},
   "outputs": [],
   "source": [
    "#Ans:"
   ]
  },
  {
   "cell_type": "code",
   "execution_count": null,
   "id": "21c5f66f-00ca-4f97-90d5-6daed58c9a01",
   "metadata": {},
   "outputs": [],
   "source": [
    "s = 'Welcom to Python foundation course'"
   ]
  },
  {
   "cell_type": "code",
   "execution_count": 52,
   "id": "fc8150b3-ad70-40f0-a31f-3d2de4496851",
   "metadata": {},
   "outputs": [
    {
     "name": "stdout",
     "output_type": "stream",
     "text": [
      "11\n"
     ]
    }
   ],
   "source": [
    "#find\n",
    "\n",
    "s = 'Welcome to Python foundation course'\n",
    "a = s.find('Python')\n",
    "print(a) #output: 11"
   ]
  },
  {
   "cell_type": "code",
   "execution_count": 54,
   "id": "efe99f98-0550-464f-afbe-0b5ddb04bc5c",
   "metadata": {},
   "outputs": [
    {
     "name": "stdout",
     "output_type": "stream",
     "text": [
      "6\n"
     ]
    }
   ],
   "source": [
    "#Count\n",
    "\n",
    "s1 = 'Welcome to Python foundation course'\n",
    "c = s1.count('o')\n",
    "print(c)  #output: 6"
   ]
  },
  {
   "cell_type": "code",
   "execution_count": 56,
   "id": "87f2018e-96eb-4b44-b85a-ea4c7aba5d3e",
   "metadata": {},
   "outputs": [
    {
     "name": "stdout",
     "output_type": "stream",
     "text": [
      "35\n"
     ]
    }
   ],
   "source": [
    "#len()\n",
    "\n",
    "s = 'Welcome to Python foundation course'\n",
    "l = len(s)\n",
    "print(l) #output: 35"
   ]
  },
  {
   "cell_type": "code",
   "execution_count": 57,
   "id": "45f0540c-4e8c-4fb9-a1da-3867a07a7549",
   "metadata": {},
   "outputs": [
    {
     "name": "stdout",
     "output_type": "stream",
     "text": [
      "Welcome to Python foundation course\n"
     ]
    }
   ],
   "source": [
    "#concatenation\n",
    "\n",
    "s1 = 'Welcome to'\n",
    "s2 = ' Python foundation course'\n",
    "concatenated = s1 + s2\n",
    "print(concatenated) #output: Welcome to Python foundation course"
   ]
  },
  {
   "cell_type": "code",
   "execution_count": null,
   "id": "c0d029ea-a380-494c-8340-74a1a12aba29",
   "metadata": {},
   "outputs": [],
   "source": [
    "Q4:For the var1able: word = 'PanaJi@12256'\n",
    "Calculate the following:\n",
    "(a) Total number of alphabets in lowercase\n",
    "(b) Total number of alphabets in uppercase\n",
    "(c) Total number of numerical in string"
   ]
  },
  {
   "cell_type": "code",
   "execution_count": null,
   "id": "4ef5bf98-011a-4ce7-a681-0ae8bd464bd8",
   "metadata": {},
   "outputs": [],
   "source": [
    "#Ans:\n",
    "word = 'PanaJi@12256'"
   ]
  },
  {
   "cell_type": "code",
   "execution_count": 59,
   "id": "3fe3f820-470f-4d1b-834b-d4cd9235590d",
   "metadata": {},
   "outputs": [
    {
     "name": "stdout",
     "output_type": "stream",
     "text": [
      "4\n"
     ]
    }
   ],
   "source": [
    "#(a).\n",
    "word = 'PanaJi@12256'\n",
    "lowercase_count = sum(1 for char in word if char.islower())\n",
    "print(lowercase_count) #output: 4"
   ]
  },
  {
   "cell_type": "code",
   "execution_count": 60,
   "id": "353ed290-eb64-42bb-8b52-d6e9b1411b2e",
   "metadata": {},
   "outputs": [
    {
     "name": "stdout",
     "output_type": "stream",
     "text": [
      "2\n"
     ]
    }
   ],
   "source": [
    "#(b)\n",
    "word = 'PanaJi@12256'\n",
    "uppercase_count = sum(1 for char in word if char.isupper())\n",
    "print(uppercase_count) #output: 2"
   ]
  },
  {
   "cell_type": "code",
   "execution_count": 61,
   "id": "55528615-d1cf-411d-969c-7f707361d64c",
   "metadata": {},
   "outputs": [
    {
     "name": "stdout",
     "output_type": "stream",
     "text": [
      "5\n"
     ]
    }
   ],
   "source": [
    "#(c)\n",
    "word = 'PanaJi@12256'\n",
    "digit_count = sum(1 for char in word if char.isdigit())\n",
    "print(digit_count) #output: 5"
   ]
  },
  {
   "cell_type": "code",
   "execution_count": null,
   "id": "163857bb-06e3-46f3-95ec-cb1403334380",
   "metadata": {},
   "outputs": [],
   "source": [
    "Q5.Wr1te a code to store a numerical value inside a variable then convert it into string."
   ]
  },
  {
   "cell_type": "code",
   "execution_count": null,
   "id": "8a778e56-4f27-473d-802f-58bcc6576b4d",
   "metadata": {},
   "outputs": [],
   "source": [
    "#Ans\n",
    "\n",
    "# Storing a numerical value in a variable\n",
    "num = 22"
   ]
  },
  {
   "cell_type": "code",
   "execution_count": 62,
   "id": "95fd49b4-aa5b-4828-868b-f674ac5c855b",
   "metadata": {},
   "outputs": [
    {
     "name": "stdout",
     "output_type": "stream",
     "text": [
      "22\n"
     ]
    }
   ],
   "source": [
    "print(num)  #output: 22"
   ]
  },
  {
   "cell_type": "code",
   "execution_count": 63,
   "id": "bd4835af-8967-4948-ae58-852c46e32995",
   "metadata": {},
   "outputs": [
    {
     "name": "stdout",
     "output_type": "stream",
     "text": [
      "22\n"
     ]
    }
   ],
   "source": [
    "num_str = str(num)\n",
    "print(num_str) #output: 22"
   ]
  },
  {
   "cell_type": "code",
   "execution_count": 64,
   "id": "6375a3cb-19a5-4650-93a9-4c80e7c5c0f0",
   "metadata": {},
   "outputs": [
    {
     "name": "stdout",
     "output_type": "stream",
     "text": [
      "<class 'int'>\n"
     ]
    }
   ],
   "source": [
    "print(type(num))     #output: <class 'int'>"
   ]
  },
  {
   "cell_type": "code",
   "execution_count": 65,
   "id": "f0460320-0969-4e5f-b088-183613124faf",
   "metadata": {},
   "outputs": [
    {
     "name": "stdout",
     "output_type": "stream",
     "text": [
      "<class 'str'>\n"
     ]
    }
   ],
   "source": [
    "print(type(num_str))  #output: <class 'str'>"
   ]
  },
  {
   "cell_type": "code",
   "execution_count": null,
   "id": "cdb0ca35-f872-4c7a-a0c1-08adcb5ecd68",
   "metadata": {},
   "outputs": [],
   "source": []
  }
 ],
 "metadata": {
  "kernelspec": {
   "display_name": "Python 3 (ipykernel)",
   "language": "python",
   "name": "python3"
  },
  "language_info": {
   "codemirror_mode": {
    "name": "ipython",
    "version": 3
   },
   "file_extension": ".py",
   "mimetype": "text/x-python",
   "name": "python",
   "nbconvert_exporter": "python",
   "pygments_lexer": "ipython3",
   "version": "3.10.8"
  }
 },
 "nbformat": 4,
 "nbformat_minor": 5
}
